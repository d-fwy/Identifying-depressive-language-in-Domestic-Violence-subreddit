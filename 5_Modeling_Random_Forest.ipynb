{
 "cells": [
  {
   "cell_type": "markdown",
   "metadata": {},
   "source": [
    "# Project 3: Identifying Depression in r/domesticviolence Subreddit Posts\n",
    "<img src=\"./images/domestic_violence.jpg\" alt=\"domestic violence pic\"/>\n",
    "\n",
    "- [Webscraping and Data Collection](./1_Webscraping_and_Data_Collection.ipynb)\n",
    "- [Preprocessing and EDA](./2_Preprocessing_and_EDA.ipynb)\n",
    "- [Modeling - Multinomial Naive Bayes](./3_Modeling_Multinomial_Naive_Bayes.ipynb)\n",
    "- [Modeling - Logistic Regression](./4_Modeling_Logistic_Regression.ipynb)\n",
    "- <b>Modeling - Random Forest</b>\n",
    "- [Production Model and Insights](./6_Production_Model_and_Insights.ipynb)"
   ]
  },
  {
   "cell_type": "markdown",
   "metadata": {},
   "source": [
    "---\n",
    "## Overview\n",
    "\n",
    "Based on the features in the cleaned dataframe, I will now fit each feature, vectorized by Count Vectorization or TF-IDF Vectorization to a Random Forest model. I will then take the best performing model and optimise its hyperparameters and fit the model again. From there, I will be able to glean insights on how each feature in the model affects the prediction of the target vector (```is_depression```).\n",
    "\n",
    "The best model will be taken into consideration for the final production model. "
   ]
  },
  {
   "cell_type": "markdown",
   "metadata": {},
   "source": [
    "---\n",
    "## Contents\n",
    "- [Importing libraries and data](#Importing-libraries-and-data)\n",
    "- [Random forest model](#Random-forest-model)\n",
    "- [Optimising parameters](#Optimising-parameters-for-random-forest-model)\n",
    "- [Insights](#Insights-from-random-forest-model)\n",
    "- [Conclusion](#Conclusion)"
   ]
  },
  {
   "cell_type": "markdown",
   "metadata": {},
   "source": [
    "---\n",
    "## Importing libraries and data"
   ]
  },
  {
   "cell_type": "code",
   "execution_count": 7,
   "metadata": {},
   "outputs": [],
   "source": [
    "import pandas as pd\n",
    "import numpy as np\n",
    "import matplotlib.pyplot as plt\n",
    "from sklearn.feature_extraction.text import CountVectorizer, TfidfVectorizer\n",
    "from sklearn.pipeline import Pipeline\n",
    "from sklearn.model_selection import train_test_split, GridSearchCV\n",
    "from sklearn.ensemble import RandomForestClassifier\n",
    "from sklearn.metrics import roc_auc_score, f1_score, confusion_matrix"
   ]
  },
  {
   "cell_type": "code",
   "execution_count": 8,
   "metadata": {
    "scrolled": true
   },
   "outputs": [
    {
     "data": {
      "text/html": [
       "<div>\n",
       "<style scoped>\n",
       "    .dataframe tbody tr th:only-of-type {\n",
       "        vertical-align: middle;\n",
       "    }\n",
       "\n",
       "    .dataframe tbody tr th {\n",
       "        vertical-align: top;\n",
       "    }\n",
       "\n",
       "    .dataframe thead th {\n",
       "        text-align: right;\n",
       "    }\n",
       "</style>\n",
       "<table border=\"1\" class=\"dataframe\">\n",
       "  <thead>\n",
       "    <tr style=\"text-align: right;\">\n",
       "      <th></th>\n",
       "      <th>is_depression</th>\n",
       "      <th>post</th>\n",
       "      <th>title</th>\n",
       "      <th>post_word_count</th>\n",
       "      <th>all_words</th>\n",
       "    </tr>\n",
       "  </thead>\n",
       "  <tbody>\n",
       "    <tr>\n",
       "      <th>0</th>\n",
       "      <td>0</td>\n",
       "      <td>unless get extremely stoned often come stop th...</td>\n",
       "      <td>get intrusive thoughts memories physical abuse</td>\n",
       "      <td>261</td>\n",
       "      <td>get intrusive thoughts memories physical abuse...</td>\n",
       "    </tr>\n",
       "    <tr>\n",
       "      <th>1</th>\n",
       "      <td>1</td>\n",
       "      <td>saw george floyd clip know part cries mama mad...</td>\n",
       "      <td>kids afraid crying</td>\n",
       "      <td>363</td>\n",
       "      <td>kids afraid crying saw george floyd clip know ...</td>\n",
       "    </tr>\n",
       "    <tr>\n",
       "      <th>2</th>\n",
       "      <td>1</td>\n",
       "      <td>sexual relationships since lost virginity bu s...</td>\n",
       "      <td>nicotine replaced sexual urges</td>\n",
       "      <td>383</td>\n",
       "      <td>nicotine replaced sexual urges sexual relation...</td>\n",
       "    </tr>\n",
       "    <tr>\n",
       "      <th>3</th>\n",
       "      <td>1</td>\n",
       "      <td>well end year 5 days hand rest school work don...</td>\n",
       "      <td>hate school disappointment</td>\n",
       "      <td>613</td>\n",
       "      <td>hate school disappointment well end year 5 day...</td>\n",
       "    </tr>\n",
       "    <tr>\n",
       "      <th>4</th>\n",
       "      <td>1</td>\n",
       "      <td>anyone suffering depression job looking simple...</td>\n",
       "      <td>suffering depression job</td>\n",
       "      <td>61</td>\n",
       "      <td>suffering depression job anyone suffering depr...</td>\n",
       "    </tr>\n",
       "  </tbody>\n",
       "</table>\n",
       "</div>"
      ],
      "text/plain": [
       "   is_depression                                               post  \\\n",
       "0              0  unless get extremely stoned often come stop th...   \n",
       "1              1  saw george floyd clip know part cries mama mad...   \n",
       "2              1  sexual relationships since lost virginity bu s...   \n",
       "3              1  well end year 5 days hand rest school work don...   \n",
       "4              1  anyone suffering depression job looking simple...   \n",
       "\n",
       "                                            title  post_word_count  \\\n",
       "0  get intrusive thoughts memories physical abuse              261   \n",
       "1                              kids afraid crying              363   \n",
       "2                  nicotine replaced sexual urges              383   \n",
       "3                      hate school disappointment              613   \n",
       "4                        suffering depression job               61   \n",
       "\n",
       "                                           all_words  \n",
       "0  get intrusive thoughts memories physical abuse...  \n",
       "1  kids afraid crying saw george floyd clip know ...  \n",
       "2  nicotine replaced sexual urges sexual relation...  \n",
       "3  hate school disappointment well end year 5 day...  \n",
       "4  suffering depression job anyone suffering depr...  "
      ]
     },
     "execution_count": 8,
     "metadata": {},
     "output_type": "execute_result"
    }
   ],
   "source": [
    "model_df = pd.read_csv('./data/dv_depression_cleaned_for_model_final.csv')\n",
    "model_df.head()"
   ]
  },
  {
   "cell_type": "code",
   "execution_count": 9,
   "metadata": {
    "scrolled": true
   },
   "outputs": [
    {
     "name": "stdout",
     "output_type": "stream",
     "text": [
      "<class 'pandas.core.frame.DataFrame'>\n",
      "RangeIndex: 1958 entries, 0 to 1957\n",
      "Data columns (total 5 columns):\n",
      " #   Column           Non-Null Count  Dtype \n",
      "---  ------           --------------  ----- \n",
      " 0   is_depression    1958 non-null   int64 \n",
      " 1   post             1958 non-null   object\n",
      " 2   title            1958 non-null   object\n",
      " 3   post_word_count  1958 non-null   int64 \n",
      " 4   all_words        1958 non-null   object\n",
      "dtypes: int64(2), object(3)\n",
      "memory usage: 76.6+ KB\n"
     ]
    }
   ],
   "source": [
    "#no null values\n",
    "model_df.info()"
   ]
  },
  {
   "cell_type": "markdown",
   "metadata": {},
   "source": [
    "---\n",
    "## Random forest model\n",
    "\n",
    "I created functions that would run and return the performance of a Count Vectorization with Logistic Regression model and TF-IDF Vectorization with Logistic Regression model on all feature columns, i.e., ```title```(words in title), ```post```(words in post), ```all_words```(all words in title and post). The dataframes below show the performance of each feature matrix.\n",
    "\n",
    "The best model was TF-IDF Vectorization with Random Forest model with the ```all_words``` column as the feature matrix\n",
    "\n",
    "It has the highest accuracy score and least variance between train and test scores. It also has the highest sensitivity, specificity, precision, ROC AUC score and f1-score\n",
    "\n",
    "NB: Extra trees modelling was also done on the data with Count Vectorization and TF-IDF Vectorization. It did not perform better than Random trees, hence it was not used."
   ]
  },
  {
   "cell_type": "code",
   "execution_count": 23,
   "metadata": {},
   "outputs": [],
   "source": [
    "def cvec_rf_model(list_of_col):\n",
    "\n",
    "    results_list = []\n",
    "    for col in list_of_col:\n",
    "    \n",
    "    #features matrix(X) and target vector(y)\n",
    "        X = model_df[col]\n",
    "        y = model_df['is_depression']\n",
    "\n",
    "        #train-test-split\n",
    "        X_train, X_test, y_train, y_test = train_test_split(X, y, test_size = 0.25, \n",
    "                                                            stratify=y, \n",
    "                                                            random_state = 42)\n",
    "\n",
    "        #instantiate cvec\n",
    "        cvec = CountVectorizer()\n",
    "\n",
    "        #fit and transform\n",
    "        X_train = cvec.fit_transform(X_train).toarray()\n",
    "        X_test = cvec.transform(X_test).toarray()\n",
    "\n",
    "        #instantiate multinomial nb\n",
    "        rf = RandomForestClassifier()\n",
    "\n",
    "        #fit nb \n",
    "        rf.fit(X_train, y_train)\n",
    "\n",
    "        #preds from nb model \n",
    "        pred = rf.predict(X_test)\n",
    "\n",
    "        #generate confusion matrix\n",
    "        tn, fp, fn, tp = confusion_matrix(y_test, pred).ravel()\n",
    "\n",
    "        #calculate roc auc score \n",
    "        pred_proba = [i[1] for i in rf.predict_proba(X_test)]\n",
    "        roc = roc_auc_score(y_test, pred_proba)\n",
    "\n",
    "        #create table of results using dictionary\n",
    "        results = {}\n",
    "        results['features matrix (X)'] = col\n",
    "        results['model'] = 'cvec + random forest'\n",
    "        results['train accuracy score'] = rf.score(X_train, y_train)\n",
    "        results['test accuracy score'] = rf.score(X_test, y_test)\n",
    "        results['confusion matrix'] = {'tn':tn, 'fp': fp, 'fn': fn, 'tp': tp}\n",
    "        results['sensitivity'] = tp/(tp+fn)\n",
    "        results['specificity'] = tn/(tn+fp)\n",
    "        results['precision'] = tp/(tp+fp)\n",
    "        results['roc auc score'] = roc\n",
    "        results['train f1-score'] = f1_score((rf.predict(X_train)), y_train)\n",
    "        results['test f1-score'] = f1_score(pred, y_test)\n",
    "\n",
    "        results \n",
    "        \n",
    "        #append results dict to results_list\n",
    "        results_list.append(results)\n",
    "        \n",
    "    #return dataframe of results for each model\n",
    "    return(pd.DataFrame(results_list)).round(2)"
   ]
  },
  {
   "cell_type": "code",
   "execution_count": 24,
   "metadata": {},
   "outputs": [],
   "source": [
    "def tvec_rf_model(list_of_col):\n",
    "\n",
    "    results_list = []\n",
    "    for col in list_of_col:\n",
    "    \n",
    "    #features matrix(X) and target vector(y)\n",
    "        X = model_df[col]\n",
    "        y = model_df['is_depression']\n",
    "\n",
    "        #train-test-split\n",
    "        X_train, X_test, y_train, y_test = train_test_split(X, y, test_size = 0.25, \n",
    "                                                            stratify=y, \n",
    "                                                            random_state = 42)\n",
    "\n",
    "        #instantiate cvec\n",
    "        tvec = TfidfVectorizer()\n",
    "\n",
    "        #fit and transform\n",
    "        X_train = tvec.fit_transform(X_train).toarray()\n",
    "        X_test = tvec.transform(X_test).toarray()\n",
    "\n",
    "        #instantiate multinomial nb\n",
    "        rf = RandomForestClassifier()\n",
    "\n",
    "        #fit nb \n",
    "        rf.fit(X_train, y_train)\n",
    "\n",
    "        #preds from nb model \n",
    "        pred = rf.predict(X_test)\n",
    "\n",
    "        #generate confusion matrix\n",
    "        tn, fp, fn, tp = confusion_matrix(y_test, pred).ravel()\n",
    "\n",
    "        #calculate roc auc score \n",
    "        pred_proba = [i[1] for i in rf.predict_proba(X_test)]\n",
    "        roc = roc_auc_score(y_test, pred_proba)\n",
    "\n",
    "        #create table of results using dictionary\n",
    "        results = {}\n",
    "        results['features matrix (X)'] = col\n",
    "        results['model'] = 'tvec + random forest'\n",
    "        results['train accuracy score'] = rf.score(X_train, y_train)\n",
    "        results['test accuracy score'] = rf.score(X_test, y_test)\n",
    "        results['confusion matrix'] = {'tn':tn, 'fp': fp, 'fn': fn, 'tp': tp}\n",
    "        results['sensitivity'] = tp/(tp+fn)\n",
    "        results['specificity'] = tn/(tn+fp)\n",
    "        results['precision'] = tp/(tp+fp)\n",
    "        results['roc auc score'] = roc\n",
    "        results['train f1-score'] = f1_score((rf.predict(X_train)), y_train)\n",
    "        results['test f1-score'] = f1_score(pred, y_test)\n",
    "\n",
    "        results \n",
    "        \n",
    "        #append results dict to results_list\n",
    "        results_list.append(results)\n",
    "        \n",
    "    #return dataframe of results for each model\n",
    "    return(pd.DataFrame(results_list)).round(2)"
   ]
  },
  {
   "cell_type": "markdown",
   "metadata": {},
   "source": [
    "**Count Vectorization involves counting the number of occurrences each words appears in a document**"
   ]
  },
  {
   "cell_type": "code",
   "execution_count": 25,
   "metadata": {
    "scrolled": true
   },
   "outputs": [
    {
     "data": {
      "text/html": [
       "<div>\n",
       "<style scoped>\n",
       "    .dataframe tbody tr th:only-of-type {\n",
       "        vertical-align: middle;\n",
       "    }\n",
       "\n",
       "    .dataframe tbody tr th {\n",
       "        vertical-align: top;\n",
       "    }\n",
       "\n",
       "    .dataframe thead th {\n",
       "        text-align: right;\n",
       "    }\n",
       "</style>\n",
       "<table border=\"1\" class=\"dataframe\">\n",
       "  <thead>\n",
       "    <tr style=\"text-align: right;\">\n",
       "      <th></th>\n",
       "      <th>features matrix (X)</th>\n",
       "      <th>model</th>\n",
       "      <th>train accuracy score</th>\n",
       "      <th>test accuracy score</th>\n",
       "      <th>confusion matrix</th>\n",
       "      <th>sensitivity</th>\n",
       "      <th>specificity</th>\n",
       "      <th>precision</th>\n",
       "      <th>roc auc score</th>\n",
       "      <th>train f1-score</th>\n",
       "      <th>test f1-score</th>\n",
       "    </tr>\n",
       "  </thead>\n",
       "  <tbody>\n",
       "    <tr>\n",
       "      <th>0</th>\n",
       "      <td>title</td>\n",
       "      <td>cvec + random forest</td>\n",
       "      <td>0.99</td>\n",
       "      <td>0.74</td>\n",
       "      <td>{'tn': 170, 'fp': 80, 'fn': 46, 'tp': 194}</td>\n",
       "      <td>0.81</td>\n",
       "      <td>0.68</td>\n",
       "      <td>0.71</td>\n",
       "      <td>0.83</td>\n",
       "      <td>0.98</td>\n",
       "      <td>0.75</td>\n",
       "    </tr>\n",
       "    <tr>\n",
       "      <th>1</th>\n",
       "      <td>post</td>\n",
       "      <td>cvec + random forest</td>\n",
       "      <td>0.99</td>\n",
       "      <td>0.89</td>\n",
       "      <td>{'tn': 223, 'fp': 27, 'fn': 29, 'tp': 211}</td>\n",
       "      <td>0.88</td>\n",
       "      <td>0.89</td>\n",
       "      <td>0.89</td>\n",
       "      <td>0.95</td>\n",
       "      <td>0.99</td>\n",
       "      <td>0.88</td>\n",
       "    </tr>\n",
       "    <tr>\n",
       "      <th>2</th>\n",
       "      <td>all_words</td>\n",
       "      <td>cvec + random forest</td>\n",
       "      <td>1.00</td>\n",
       "      <td>0.90</td>\n",
       "      <td>{'tn': 225, 'fp': 25, 'fn': 26, 'tp': 214}</td>\n",
       "      <td>0.89</td>\n",
       "      <td>0.90</td>\n",
       "      <td>0.90</td>\n",
       "      <td>0.96</td>\n",
       "      <td>1.00</td>\n",
       "      <td>0.89</td>\n",
       "    </tr>\n",
       "  </tbody>\n",
       "</table>\n",
       "</div>"
      ],
      "text/plain": [
       "  features matrix (X)                 model  train accuracy score  \\\n",
       "0               title  cvec + random forest                  0.99   \n",
       "1                post  cvec + random forest                  0.99   \n",
       "2           all_words  cvec + random forest                  1.00   \n",
       "\n",
       "   test accuracy score                            confusion matrix  \\\n",
       "0                 0.74  {'tn': 170, 'fp': 80, 'fn': 46, 'tp': 194}   \n",
       "1                 0.89  {'tn': 223, 'fp': 27, 'fn': 29, 'tp': 211}   \n",
       "2                 0.90  {'tn': 225, 'fp': 25, 'fn': 26, 'tp': 214}   \n",
       "\n",
       "   sensitivity  specificity  precision  roc auc score  train f1-score  \\\n",
       "0         0.81         0.68       0.71           0.83            0.98   \n",
       "1         0.88         0.89       0.89           0.95            0.99   \n",
       "2         0.89         0.90       0.90           0.96            1.00   \n",
       "\n",
       "   test f1-score  \n",
       "0           0.75  \n",
       "1           0.88  \n",
       "2           0.89  "
      ]
     },
     "execution_count": 25,
     "metadata": {},
     "output_type": "execute_result"
    }
   ],
   "source": [
    "cvec_rf_model(['title', 'post', 'all_words'])"
   ]
  },
  {
   "cell_type": "markdown",
   "metadata": {},
   "source": [
    "**Term Frequency-Inverse Document Frequency (TF-IDF) tells whether a word appears frequently in some posts and less frequently in others**"
   ]
  },
  {
   "cell_type": "code",
   "execution_count": 26,
   "metadata": {
    "scrolled": true
   },
   "outputs": [
    {
     "data": {
      "text/html": [
       "<div>\n",
       "<style scoped>\n",
       "    .dataframe tbody tr th:only-of-type {\n",
       "        vertical-align: middle;\n",
       "    }\n",
       "\n",
       "    .dataframe tbody tr th {\n",
       "        vertical-align: top;\n",
       "    }\n",
       "\n",
       "    .dataframe thead th {\n",
       "        text-align: right;\n",
       "    }\n",
       "</style>\n",
       "<table border=\"1\" class=\"dataframe\">\n",
       "  <thead>\n",
       "    <tr style=\"text-align: right;\">\n",
       "      <th></th>\n",
       "      <th>features matrix (X)</th>\n",
       "      <th>model</th>\n",
       "      <th>train accuracy score</th>\n",
       "      <th>test accuracy score</th>\n",
       "      <th>confusion matrix</th>\n",
       "      <th>sensitivity</th>\n",
       "      <th>specificity</th>\n",
       "      <th>precision</th>\n",
       "      <th>roc auc score</th>\n",
       "      <th>train f1-score</th>\n",
       "      <th>test f1-score</th>\n",
       "    </tr>\n",
       "  </thead>\n",
       "  <tbody>\n",
       "    <tr>\n",
       "      <th>0</th>\n",
       "      <td>title</td>\n",
       "      <td>tvec + random forest</td>\n",
       "      <td>0.99</td>\n",
       "      <td>0.77</td>\n",
       "      <td>{'tn': 176, 'fp': 74, 'fn': 39, 'tp': 201}</td>\n",
       "      <td>0.84</td>\n",
       "      <td>0.70</td>\n",
       "      <td>0.73</td>\n",
       "      <td>0.85</td>\n",
       "      <td>0.98</td>\n",
       "      <td>0.78</td>\n",
       "    </tr>\n",
       "    <tr>\n",
       "      <th>1</th>\n",
       "      <td>post</td>\n",
       "      <td>tvec + random forest</td>\n",
       "      <td>0.99</td>\n",
       "      <td>0.90</td>\n",
       "      <td>{'tn': 222, 'fp': 28, 'fn': 23, 'tp': 217}</td>\n",
       "      <td>0.90</td>\n",
       "      <td>0.89</td>\n",
       "      <td>0.89</td>\n",
       "      <td>0.95</td>\n",
       "      <td>0.99</td>\n",
       "      <td>0.89</td>\n",
       "    </tr>\n",
       "    <tr>\n",
       "      <th>2</th>\n",
       "      <td>all_words</td>\n",
       "      <td>tvec + random forest</td>\n",
       "      <td>1.00</td>\n",
       "      <td>0.90</td>\n",
       "      <td>{'tn': 222, 'fp': 28, 'fn': 20, 'tp': 220}</td>\n",
       "      <td>0.92</td>\n",
       "      <td>0.89</td>\n",
       "      <td>0.89</td>\n",
       "      <td>0.96</td>\n",
       "      <td>1.00</td>\n",
       "      <td>0.90</td>\n",
       "    </tr>\n",
       "  </tbody>\n",
       "</table>\n",
       "</div>"
      ],
      "text/plain": [
       "  features matrix (X)                 model  train accuracy score  \\\n",
       "0               title  tvec + random forest                  0.99   \n",
       "1                post  tvec + random forest                  0.99   \n",
       "2           all_words  tvec + random forest                  1.00   \n",
       "\n",
       "   test accuracy score                            confusion matrix  \\\n",
       "0                 0.77  {'tn': 176, 'fp': 74, 'fn': 39, 'tp': 201}   \n",
       "1                 0.90  {'tn': 222, 'fp': 28, 'fn': 23, 'tp': 217}   \n",
       "2                 0.90  {'tn': 222, 'fp': 28, 'fn': 20, 'tp': 220}   \n",
       "\n",
       "   sensitivity  specificity  precision  roc auc score  train f1-score  \\\n",
       "0         0.84         0.70       0.73           0.85            0.98   \n",
       "1         0.90         0.89       0.89           0.95            0.99   \n",
       "2         0.92         0.89       0.89           0.96            1.00   \n",
       "\n",
       "   test f1-score  \n",
       "0           0.78  \n",
       "1           0.89  \n",
       "2           0.90  "
      ]
     },
     "execution_count": 26,
     "metadata": {},
     "output_type": "execute_result"
    }
   ],
   "source": [
    "tvec_rf_model(['title', 'post', 'all_words'])"
   ]
  },
  {
   "cell_type": "markdown",
   "metadata": {},
   "source": [
    "#### The best model is TF-IDF Vectorization with random forest model with the ```all_words``` column as the feature matrix. \n",
    "It has the highest accuracy score and least variance between train and test scores. It also has the highest sensitivity,\tspecificity,\tprecision,\tROC AUC score and  f1-score (also least variance betweem train and test)\n",
    "\n",
    "Extra trees modelling was also done on the data, with Count Vectorization and TF-IDF Vectorization. It did not perform better than Random trees, hence it was not used."
   ]
  },
  {
   "cell_type": "markdown",
   "metadata": {},
   "source": [
    "---\n",
    "## Optimising parameters for random forest model\n",
    "Since we have already found the best combination of features matrix and model, I will now optimise the hyperparameters of the chosen model, before fitting and calculating the performance of the model with these metrics, as seen in the dataframe below:\n",
    "- Accuracy score\n",
    "- ROC AUC score\n",
    "- Sensitivity score\n",
    "- Specificity score \n",
    "- Precision score\n",
    "- f1-score\n",
    "\n",
    "I have limited the ```max_features``` to 500 so that the 40 most significant features can be differentiated by their coefficients (in Insight section), while not significantly affecting the scores of the model"
   ]
  },
  {
   "cell_type": "code",
   "execution_count": 14,
   "metadata": {
    "scrolled": false
   },
   "outputs": [
    {
     "name": "stdout",
     "output_type": "stream",
     "text": [
      "Fitting 5 folds for each of 243 candidates, totalling 1215 fits\n"
     ]
    },
    {
     "name": "stderr",
     "output_type": "stream",
     "text": [
      "[Parallel(n_jobs=-1)]: Using backend LokyBackend with 4 concurrent workers.\n",
      "[Parallel(n_jobs=-1)]: Done  42 tasks      | elapsed:   21.5s\n",
      "[Parallel(n_jobs=-1)]: Done 192 tasks      | elapsed:  2.7min\n",
      "[Parallel(n_jobs=-1)]: Done 442 tasks      | elapsed: 15.4min\n",
      "[Parallel(n_jobs=-1)]: Done 792 tasks      | elapsed: 36.0min\n",
      "[Parallel(n_jobs=-1)]: Done 1215 out of 1215 | elapsed: 58.7min finished\n"
     ]
    },
    {
     "data": {
      "text/plain": [
       "GridSearchCV(cv=5, error_score=nan,\n",
       "             estimator=Pipeline(memory=None,\n",
       "                                steps=[('tvec',\n",
       "                                        TfidfVectorizer(analyzer='word',\n",
       "                                                        binary=False,\n",
       "                                                        decode_error='strict',\n",
       "                                                        dtype=<class 'numpy.float64'>,\n",
       "                                                        encoding='utf-8',\n",
       "                                                        input='content',\n",
       "                                                        lowercase=True,\n",
       "                                                        max_df=1.0,\n",
       "                                                        max_features=None,\n",
       "                                                        min_df=1,\n",
       "                                                        ngram_range=(1, 1),\n",
       "                                                        norm='l2',\n",
       "                                                        preprocessor=None,\n",
       "                                                        smooth_idf=True,\n",
       "                                                        stop_words=None,\n",
       "                                                        strip_acce...\n",
       "                                                               random_state=None,\n",
       "                                                               verbose=0,\n",
       "                                                               warm_start=False))],\n",
       "                                verbose=False),\n",
       "             iid='deprecated', n_jobs=-1,\n",
       "             param_grid={'rf__max_depth': [10, 30, 50],\n",
       "                         'rf__n_estimators': [100, 500, 1000],\n",
       "                         'tvec__max_df': [0.2, 0.3, 0.7],\n",
       "                         'tvec__max_features': [100, 200, 500],\n",
       "                         'tvec__min_df': [2, 4, 6],\n",
       "                         'tvec__ngram_range': [(1, 1)]},\n",
       "             pre_dispatch='2*n_jobs', refit=True, return_train_score=False,\n",
       "             scoring=None, verbose=1)"
      ]
     },
     "execution_count": 14,
     "metadata": {},
     "output_type": "execute_result"
    }
   ],
   "source": [
    "#features matrix and target vector\n",
    "X = model_df['all_words']\n",
    "y = model_df['is_depression']\n",
    "\n",
    "#train-test-split\n",
    "X_train, X_test, y_train, y_test = train_test_split(X, y, test_size = 0.25, stratify=y, \n",
    "                                                    random_state = 42)\n",
    "\n",
    "#optimising hyperparameters \n",
    "pipe = Pipeline([\n",
    "    ('tvec', TfidfVectorizer()),\n",
    "    ('rf', RandomForestClassifier())\n",
    "])\n",
    "\n",
    "pipe_params = {\n",
    "    'tvec__max_features': [200, 500],\n",
    "    'tvec__min_df': [2, 4, 6],\n",
    "    'tvec__max_df': [0.2, 0.3, 0.7],\n",
    "    'tvec__ngram_range': [(1,1)],\n",
    "    'rf__n_estimators': [100, 500, 1000],\n",
    "    'rf__max_depth': [10, 30, 50]\n",
    "}\n",
    "\n",
    "gscv = GridSearchCV(pipe, pipe_params, cv=5, n_jobs = -1, verbose=1)\n",
    "gscv.fit(X_train, y_train)"
   ]
  },
  {
   "cell_type": "code",
   "execution_count": 15,
   "metadata": {
    "scrolled": true
   },
   "outputs": [
    {
     "data": {
      "text/plain": [
       "{'rf__max_depth': 50,\n",
       " 'rf__n_estimators': 500,\n",
       " 'tvec__max_df': 0.7,\n",
       " 'tvec__max_features': 500,\n",
       " 'tvec__min_df': 2,\n",
       " 'tvec__ngram_range': (1, 1)}"
      ]
     },
     "execution_count": 15,
     "metadata": {},
     "output_type": "execute_result"
    }
   ],
   "source": [
    "gscv.best_params_"
   ]
  },
  {
   "cell_type": "code",
   "execution_count": 16,
   "metadata": {},
   "outputs": [
    {
     "data": {
      "text/plain": [
       "Pipeline(memory=None,\n",
       "         steps=[('tvec',\n",
       "                 TfidfVectorizer(analyzer='word', binary=False,\n",
       "                                 decode_error='strict',\n",
       "                                 dtype=<class 'numpy.float64'>,\n",
       "                                 encoding='utf-8', input='content',\n",
       "                                 lowercase=True, max_df=0.7, max_features=500,\n",
       "                                 min_df=2, ngram_range=(1, 1), norm='l2',\n",
       "                                 preprocessor=None, smooth_idf=True,\n",
       "                                 stop_words=None, strip_accents=None,\n",
       "                                 sublinear_tf=False,\n",
       "                                 token_pattern='(?...\n",
       "                 RandomForestClassifier(bootstrap=True, ccp_alpha=0.0,\n",
       "                                        class_weight=None, criterion='gini',\n",
       "                                        max_depth=50, max_features='auto',\n",
       "                                        max_leaf_nodes=None, max_samples=None,\n",
       "                                        min_impurity_decrease=0.0,\n",
       "                                        min_impurity_split=None,\n",
       "                                        min_samples_leaf=1, min_samples_split=2,\n",
       "                                        min_weight_fraction_leaf=0.0,\n",
       "                                        n_estimators=500, n_jobs=None,\n",
       "                                        oob_score=False, random_state=None,\n",
       "                                        verbose=0, warm_start=False))],\n",
       "         verbose=False)"
      ]
     },
     "execution_count": 16,
     "metadata": {},
     "output_type": "execute_result"
    }
   ],
   "source": [
    "#fitting model with optimised params \n",
    "best_gscv = gscv.best_estimator_\n",
    "best_gscv.fit(X_train, y_train)"
   ]
  },
  {
   "cell_type": "code",
   "execution_count": 17,
   "metadata": {},
   "outputs": [
    {
     "data": {
      "text/html": [
       "<div>\n",
       "<style scoped>\n",
       "    .dataframe tbody tr th:only-of-type {\n",
       "        vertical-align: middle;\n",
       "    }\n",
       "\n",
       "    .dataframe tbody tr th {\n",
       "        vertical-align: top;\n",
       "    }\n",
       "\n",
       "    .dataframe thead th {\n",
       "        text-align: right;\n",
       "    }\n",
       "</style>\n",
       "<table border=\"1\" class=\"dataframe\">\n",
       "  <thead>\n",
       "    <tr style=\"text-align: right;\">\n",
       "      <th></th>\n",
       "      <th>0</th>\n",
       "    </tr>\n",
       "  </thead>\n",
       "  <tbody>\n",
       "    <tr>\n",
       "      <th>features_matrix</th>\n",
       "      <td>all_words</td>\n",
       "    </tr>\n",
       "    <tr>\n",
       "      <th>model</th>\n",
       "      <td>tvec + random forest</td>\n",
       "    </tr>\n",
       "    <tr>\n",
       "      <th>optimised_params</th>\n",
       "      <td>{'rf__max_depth': 50, 'rf__n_estimators': 500, 'tvec__max_df': 0.7, 'tvec__max_features': 500, 'tvec__min_df': 2, 'tvec__ngram_range': (1, 1)}</td>\n",
       "    </tr>\n",
       "    <tr>\n",
       "      <th>train_score</th>\n",
       "      <td>1</td>\n",
       "    </tr>\n",
       "    <tr>\n",
       "      <th>test_score</th>\n",
       "      <td>0.918367</td>\n",
       "    </tr>\n",
       "    <tr>\n",
       "      <th>confusion_matrix</th>\n",
       "      <td>tn: 227, fp: 23, fn: 17, tp: 223</td>\n",
       "    </tr>\n",
       "    <tr>\n",
       "      <th>sensitivity</th>\n",
       "      <td>0.929167</td>\n",
       "    </tr>\n",
       "    <tr>\n",
       "      <th>specificity</th>\n",
       "      <td>0.908</td>\n",
       "    </tr>\n",
       "    <tr>\n",
       "      <th>precision</th>\n",
       "      <td>0.906504</td>\n",
       "    </tr>\n",
       "    <tr>\n",
       "      <th>roc_auc_score</th>\n",
       "      <td>0.963958</td>\n",
       "    </tr>\n",
       "    <tr>\n",
       "      <th>train_f1</th>\n",
       "      <td>1</td>\n",
       "    </tr>\n",
       "    <tr>\n",
       "      <th>test_f1</th>\n",
       "      <td>0.917695</td>\n",
       "    </tr>\n",
       "  </tbody>\n",
       "</table>\n",
       "</div>"
      ],
      "text/plain": [
       "                                                                                                                                                               0\n",
       "features_matrix                                                                                                                                        all_words\n",
       "model                                                                                                                                       tvec + random forest\n",
       "optimised_params  {'rf__max_depth': 50, 'rf__n_estimators': 500, 'tvec__max_df': 0.7, 'tvec__max_features': 500, 'tvec__min_df': 2, 'tvec__ngram_range': (1, 1)}\n",
       "train_score                                                                                                                                                    1\n",
       "test_score                                                                                                                                              0.918367\n",
       "confusion_matrix                                                                                                                tn: 227, fp: 23, fn: 17, tp: 223\n",
       "sensitivity                                                                                                                                             0.929167\n",
       "specificity                                                                                                                                                0.908\n",
       "precision                                                                                                                                               0.906504\n",
       "roc_auc_score                                                                                                                                           0.963958\n",
       "train_f1                                                                                                                                                       1\n",
       "test_f1                                                                                                                                                 0.917695"
      ]
     },
     "execution_count": 17,
     "metadata": {},
     "output_type": "execute_result"
    }
   ],
   "source": [
    "#create dataframe of metrics based on optimised model \n",
    "opt_results = pd.DataFrame()\n",
    "\n",
    "opt_results['features_matrix'] = ['all_words']\n",
    "opt_results['model'] = ['tvec + random forest']\n",
    "opt_results['optimised_params'] = [gscv.best_params_]\n",
    "opt_results['train_score'] = best_gscv.score(X_train, y_train)\n",
    "opt_results['test_score'] = best_gscv.score(X_test, y_test)\n",
    "\n",
    "preds = best_gscv.predict(X_test)\n",
    "tn, fp, fn, tp  = confusion_matrix(y_test, preds).ravel()\n",
    "\n",
    "opt_results['confusion_matrix'] = [f'tn: {tn}, fp: {fp}, fn: {fn}, tp: {tp}']\n",
    "opt_results['sensitivity'] = tp/(tp+fn)\n",
    "opt_results['specificity'] = tn/(tn+fp)\n",
    "opt_results['precision'] = tp/(tp+fp)\n",
    "\n",
    "pred_proba = [i[1] for i in best_gscv.predict_proba(X_test)]\n",
    "\n",
    "opt_results['roc_auc_score'] = roc_auc_score(y_test, pred_proba)\n",
    "opt_results['train_f1'] = f1_score((best_gscv.predict(X_train)), y_train)\n",
    "opt_results['test_f1'] = f1_score(preds, y_test)\n",
    "\n",
    "pd.set_option('display.max_colwidth', None)\n",
    "opt_results.T"
   ]
  },
  {
   "cell_type": "code",
   "execution_count": 18,
   "metadata": {},
   "outputs": [],
   "source": [
    "#export opt_results for use in final model \n",
    "opt_results.to_csv('./data/best_random_forest.csv', index=False)"
   ]
  },
  {
   "cell_type": "markdown",
   "metadata": {},
   "source": [
    "### ROC curve\n",
    "The ROC curve shows how well the model is at interpreting classes (0 and 1). The more area between the ROC (blue) curve and baseline (yellow line), the better separated the distributions of 0 and 1.\n",
    "An ROC AUC score of 0.976 means that the distribution is well separated, there is little overlap between false positive and false negatives, therefore minimising wrong predictions"
   ]
  },
  {
   "cell_type": "code",
   "execution_count": 19,
   "metadata": {},
   "outputs": [
    {
     "data": {
      "text/html": [
       "<div>\n",
       "<style scoped>\n",
       "    .dataframe tbody tr th:only-of-type {\n",
       "        vertical-align: middle;\n",
       "    }\n",
       "\n",
       "    .dataframe tbody tr th {\n",
       "        vertical-align: top;\n",
       "    }\n",
       "\n",
       "    .dataframe thead th {\n",
       "        text-align: right;\n",
       "    }\n",
       "</style>\n",
       "<table border=\"1\" class=\"dataframe\">\n",
       "  <thead>\n",
       "    <tr style=\"text-align: right;\">\n",
       "      <th></th>\n",
       "      <th>true_values</th>\n",
       "      <th>pred_probs</th>\n",
       "    </tr>\n",
       "  </thead>\n",
       "  <tbody>\n",
       "    <tr>\n",
       "      <th>353</th>\n",
       "      <td>0</td>\n",
       "      <td>0.026000</td>\n",
       "    </tr>\n",
       "    <tr>\n",
       "      <th>1954</th>\n",
       "      <td>0</td>\n",
       "      <td>0.062000</td>\n",
       "    </tr>\n",
       "    <tr>\n",
       "      <th>703</th>\n",
       "      <td>0</td>\n",
       "      <td>0.150000</td>\n",
       "    </tr>\n",
       "    <tr>\n",
       "      <th>910</th>\n",
       "      <td>0</td>\n",
       "      <td>0.113319</td>\n",
       "    </tr>\n",
       "    <tr>\n",
       "      <th>1525</th>\n",
       "      <td>0</td>\n",
       "      <td>0.136000</td>\n",
       "    </tr>\n",
       "  </tbody>\n",
       "</table>\n",
       "</div>"
      ],
      "text/plain": [
       "      true_values  pred_probs\n",
       "353             0    0.026000\n",
       "1954            0    0.062000\n",
       "703             0    0.150000\n",
       "910             0    0.113319\n",
       "1525            0    0.136000"
      ]
     },
     "execution_count": 19,
     "metadata": {},
     "output_type": "execute_result"
    }
   ],
   "source": [
    "pred_df = pd.DataFrame({'true_values': y_test,'pred_probs':pred_proba})\n",
    "pred_df.head()"
   ]
  },
  {
   "cell_type": "code",
   "execution_count": 20,
   "metadata": {
    "scrolled": false
   },
   "outputs": [
    {
     "data": {
      "image/png": "[encoded data removed]",
      "text/plain": [
       "<Figure size 720x504 with 1 Axes>"
      ]
     },
     "metadata": {
      "needs_background": "light"
     },
     "output_type": "display_data"
    }
   ],
   "source": [
    "# Create figure.\n",
    "plt.figure(figsize = (10,7))\n",
    "\n",
    "# Create threshold values. (Dashed red line in image.)\n",
    "thresholds = np.linspace(0, 1, 200)\n",
    "\n",
    "# Define function to calculate sensitivity. (True positive rate.)\n",
    "def TPR(df, true_col, pred_prob_col, threshold):\n",
    "    true_positive = df[(df[true_col] == 1) & (df[pred_prob_col] >= threshold)].shape[0]\n",
    "    false_negative = df[(df[true_col] == 1) & (df[pred_prob_col] < threshold)].shape[0]\n",
    "    return true_positive / (true_positive + false_negative)\n",
    "    \n",
    "# Define function to calculate 1 - specificity. (False positive rate.)\n",
    "def FPR(df, true_col, pred_prob_col, threshold):\n",
    "    true_negative = df[(df[true_col] == 0) & (df[pred_prob_col] <= threshold)].shape[0]\n",
    "    false_positive = df[(df[true_col] == 0) & (df[pred_prob_col] > threshold)].shape[0]\n",
    "    return 1 - (true_negative / (true_negative + false_positive))\n",
    "    \n",
    "# Calculate sensitivity & 1-specificity for each threshold between 0 and 1.\n",
    "tpr_values = [TPR(pred_df, 'true_values', 'pred_probs', prob) for prob in thresholds]\n",
    "fpr_values = [FPR(pred_df, 'true_values', 'pred_probs', prob) for prob in thresholds]\n",
    "\n",
    "# Plot ROC curve.\n",
    "plt.plot(fpr_values, # False Positive Rate on X-axis\n",
    "         tpr_values, # True Positive Rate on Y-axis\n",
    "         label='ROC Curve')\n",
    "\n",
    "# Plot baseline. (Perfect overlap between the two populations.)\n",
    "plt.plot(np.linspace(0, 1, 200),\n",
    "         np.linspace(0, 1, 200),\n",
    "         label='baseline',\n",
    "         linestyle='--')\n",
    "\n",
    "# Label axes.\n",
    "plt.title(f\"ROC Curve with AUC = {round(roc_auc_score(pred_df['true_values'], pred_df['pred_probs']),3)}\", fontsize=22)\n",
    "plt.ylabel('Sensitivity', fontsize=18)\n",
    "plt.xlabel('1 - Specificity', fontsize=18)\n",
    "\n",
    "# Create legend.\n",
    "plt.legend(fontsize=16);"
   ]
  },
  {
   "cell_type": "markdown",
   "metadata": {},
   "source": [
    "---\n",
    "## Insights from random forest model\n",
    "\n",
    "### Words with largest coefficient values \n",
    "\n",
    "From the top 500 most significant words (```max_features```), I have plotted a bar graph to show which words affect the prediction of target vector ```is_depression``` the most.\n",
    "\n",
    "**The top 30 words have the largest feature importances values. These words have the highest weightage in affecting the probability of whether ```is_depression```  = 1 or 0.**\n",
    "- The top 30 words are: ```abusive, abuse, police, leave, violence, depression, ex, domestic, abuser, life, relationship, order, hit, told, house, got, said, together, feel, physically, call, abused, people, advice, husband, back, phone, home, violent, like```"
   ]
  },
  {
   "cell_type": "code",
   "execution_count": 21,
   "metadata": {},
   "outputs": [
    {
     "data": {
      "text/html": [
       "<div>\n",
       "<style scoped>\n",
       "    .dataframe tbody tr th:only-of-type {\n",
       "        vertical-align: middle;\n",
       "    }\n",
       "\n",
       "    .dataframe tbody tr th {\n",
       "        vertical-align: top;\n",
       "    }\n",
       "\n",
       "    .dataframe thead th {\n",
       "        text-align: right;\n",
       "    }\n",
       "</style>\n",
       "<table border=\"1\" class=\"dataframe\">\n",
       "  <thead>\n",
       "    <tr style=\"text-align: right;\">\n",
       "      <th></th>\n",
       "      <th>word</th>\n",
       "      <th>feature_impt</th>\n",
       "    </tr>\n",
       "  </thead>\n",
       "  <tbody>\n",
       "    <tr>\n",
       "      <th>0</th>\n",
       "      <td>10</td>\n",
       "      <td>0.000684</td>\n",
       "    </tr>\n",
       "    <tr>\n",
       "      <th>1</th>\n",
       "      <td>20</td>\n",
       "      <td>0.000400</td>\n",
       "    </tr>\n",
       "    <tr>\n",
       "      <th>2</th>\n",
       "      <td>able</td>\n",
       "      <td>0.000647</td>\n",
       "    </tr>\n",
       "    <tr>\n",
       "      <th>3</th>\n",
       "      <td>abuse</td>\n",
       "      <td>0.059552</td>\n",
       "    </tr>\n",
       "    <tr>\n",
       "      <th>4</th>\n",
       "      <td>abused</td>\n",
       "      <td>0.008003</td>\n",
       "    </tr>\n",
       "  </tbody>\n",
       "</table>\n",
       "</div>"
      ],
      "text/plain": [
       "     word  feature_impt\n",
       "0      10      0.000684\n",
       "1      20      0.000400\n",
       "2    able      0.000647\n",
       "3   abuse      0.059552\n",
       "4  abused      0.008003"
      ]
     },
     "execution_count": 21,
     "metadata": {},
     "output_type": "execute_result"
    }
   ],
   "source": [
    "feature_impt = best_gscv.named_steps['rf'].feature_importances_\n",
    "features = best_gscv.named_steps['tvec'].get_feature_names()\n",
    "\n",
    "#creating dataframe of words and feature importance\n",
    "feat_df = pd.DataFrame({'word':features, 'feature_impt':feature_impt})\n",
    "feat_df.head()"
   ]
  },
  {
   "cell_type": "code",
   "execution_count": 22,
   "metadata": {
    "scrolled": false
   },
   "outputs": [
    {
     "data": {
      "image/png": "[encoded data removed]",
      "text/plain": [
       "<Figure size 1080x576 with 1 Axes>"
      ]
     },
     "metadata": {
      "needs_background": "light"
     },
     "output_type": "display_data"
    }
   ],
   "source": [
    "#plot bar chart with 30 words with highest feature importance\n",
    "top_30 = feat_df.sort_values(by = 'feature_impt', ascending=False)[:30]\n",
    "top_30[::-1].plot.barh('word', figsize=(15,8))\n",
    "plt.title ('Top 30 words with highest feature importance', fontsize=16)\n",
    "plt.xlabel('Feature importance', fontsize = 14)\n",
    "plt.ylabel('Word', fontsize = 14);"
   ]
  },
  {
   "cell_type": "markdown",
   "metadata": {},
   "source": [
    "---\n",
    "## Conclusion \n",
    "\n",
    "The best feature for logistic regression model was the ```all_words``` column, vectorized with ```TF-IDFVectorizer```. It gave a train accuracy score of 1 and test accuracy score of 0.92. There is some overfitting in the random forest model given the difference between the train and test scores. The ROC AUC score of 0.96 means that there is little overlap between false positive and false negatives, thereby minimising wrong predictions. \n",
    "\n",
    "This model will be taken into consideration for the final production model. \n",
    "\n",
    "#### Pros and Cons of random forest model\n",
    "- Pros\n",
    "    - Lower variance than decision tree and bagging models \n",
    "- Cons\n",
    "    - Even though it has a lower variance and therefore lower likelihood that the model is overfit compared to other decision tree models, it still has a higher variance between train and test scores than the multinomial NB and logistic regression models.\n",
    "    - Does not generate coefficients of each feature, unlike other models, more difficult to visualise how each the presence of 1 word increases/decreases probability of ```is_depression``` = 1. \n",
    "    \n",
    "#### The next notebook will determine the final production model based on the performance of the multinomial NB, logistic regression and random forest best models. "
   ]
  }
 ],
 "metadata": {
  "kernelspec": {
   "display_name": "Python 3",
   "language": "python",
   "name": "python3"
  },
  "language_info": {
   "codemirror_mode": {
    "name": "ipython",
    "version": 3
   },
   "file_extension": ".py",
   "mimetype": "text/x-python",
   "name": "python",
   "nbconvert_exporter": "python",
   "pygments_lexer": "ipython3",
   "version": "3.7.6"
  }
 },
 "nbformat": 4,
 "nbformat_minor": 4
}

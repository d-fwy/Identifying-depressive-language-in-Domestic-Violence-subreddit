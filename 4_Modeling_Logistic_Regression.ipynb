{
 "cells": [
  {
   "cell_type": "markdown",
   "metadata": {},
   "source": [
    "# Project 3: Identifying Depression in r/domesticviolence Subreddit Posts\n",
    "<img src=\"./images/domestic_violence.jpg\" alt=\"domestic violence pic\"/>\n",
    "\n",
    "- [Webscraping and Data Collection](./1_Webscraping_and_Data_Collection.ipynb)\n",
    "- [Preprocessing and EDA](./2_Preprocessing_and_EDA.ipynb)\n",
    "- [Modeling - Multinomial Naive Bayes](./3_Modeling_Multinomial_Naive_Bayes.ipynb)\n",
    "- <b>Modeling - Logistic Regression</b>\n",
    "- [Modeling - Random Forest](./5_Modeling_Random_Forest.ipynb)\n",
    "- [Production Model and Insights](./6_Production_Model_and_Insights.ipynb)"
   ]
  },
  {
   "cell_type": "markdown",
   "metadata": {},
   "source": [
    "---\n",
    "## Overview\n",
    "\n",
    "Based on the features in the cleaned dataframe, I will now fit each feature, vectorized by Count Vectorization or TF-IDF Vectorization to a Logistic Regression model. I will then take the best performing model and optimise its hyperparameters and fit the model again. From there, I will be able to glean insights about the coefficient of each word in the model and how much it affects the prediction of the target vector (```is_depression```). The best model will be taken into consideration for the final production model. "
   ]
  },
  {
   "cell_type": "markdown",
   "metadata": {},
   "source": [
    "---\n",
    "## Contents\n",
    "- [Importing libraries and data](#Importing-libraries-and-data)\n",
    "- [Logistic regression model](#Logistic-regression-model)\n",
    "- [Optimising parameters](#Optimising-parameters-for-logistic-regression-model)\n",
    "- [Insights](#Insights-from-logistic-regression-model)\n",
    "- [Conclusion](#Conclusion)"
   ]
  },
  {
   "cell_type": "markdown",
   "metadata": {},
   "source": [
    "---\n",
    "## Importing libraries and data"
   ]
  },
  {
   "cell_type": "code",
   "execution_count": 1,
   "metadata": {},
   "outputs": [],
   "source": [
    "import pandas as pd\n",
    "import numpy as np\n",
    "import matplotlib.pyplot as plt\n",
    "from sklearn.feature_extraction.text import CountVectorizer, TfidfVectorizer\n",
    "from sklearn.pipeline import Pipeline\n",
    "from sklearn.model_selection import train_test_split, GridSearchCV\n",
    "from sklearn.linear_model import LogisticRegression\n",
    "from sklearn.metrics import roc_auc_score, f1_score, confusion_matrix"
   ]
  },
  {
   "cell_type": "code",
   "execution_count": 2,
   "metadata": {
    "scrolled": true
   },
   "outputs": [
    {
     "data": {
      "text/html": [
       "<div>\n",
       "<style scoped>\n",
       "    .dataframe tbody tr th:only-of-type {\n",
       "        vertical-align: middle;\n",
       "    }\n",
       "\n",
       "    .dataframe tbody tr th {\n",
       "        vertical-align: top;\n",
       "    }\n",
       "\n",
       "    .dataframe thead th {\n",
       "        text-align: right;\n",
       "    }\n",
       "</style>\n",
       "<table border=\"1\" class=\"dataframe\">\n",
       "  <thead>\n",
       "    <tr style=\"text-align: right;\">\n",
       "      <th></th>\n",
       "      <th>is_depression</th>\n",
       "      <th>post</th>\n",
       "      <th>title</th>\n",
       "      <th>post_word_count</th>\n",
       "      <th>all_words</th>\n",
       "    </tr>\n",
       "  </thead>\n",
       "  <tbody>\n",
       "    <tr>\n",
       "      <th>0</th>\n",
       "      <td>0</td>\n",
       "      <td>unless get extremely stoned often come stop th...</td>\n",
       "      <td>get intrusive thoughts memories physical abuse</td>\n",
       "      <td>261</td>\n",
       "      <td>get intrusive thoughts memories physical abuse...</td>\n",
       "    </tr>\n",
       "    <tr>\n",
       "      <th>1</th>\n",
       "      <td>1</td>\n",
       "      <td>saw george floyd clip know part cries mama mad...</td>\n",
       "      <td>kids afraid crying</td>\n",
       "      <td>363</td>\n",
       "      <td>kids afraid crying saw george floyd clip know ...</td>\n",
       "    </tr>\n",
       "    <tr>\n",
       "      <th>2</th>\n",
       "      <td>1</td>\n",
       "      <td>sexual relationships since lost virginity bu s...</td>\n",
       "      <td>nicotine replaced sexual urges</td>\n",
       "      <td>383</td>\n",
       "      <td>nicotine replaced sexual urges sexual relation...</td>\n",
       "    </tr>\n",
       "    <tr>\n",
       "      <th>3</th>\n",
       "      <td>1</td>\n",
       "      <td>well end year 5 days hand rest school work don...</td>\n",
       "      <td>hate school disappointment</td>\n",
       "      <td>613</td>\n",
       "      <td>hate school disappointment well end year 5 day...</td>\n",
       "    </tr>\n",
       "    <tr>\n",
       "      <th>4</th>\n",
       "      <td>1</td>\n",
       "      <td>anyone suffering depression job looking simple...</td>\n",
       "      <td>suffering depression job</td>\n",
       "      <td>61</td>\n",
       "      <td>suffering depression job anyone suffering depr...</td>\n",
       "    </tr>\n",
       "  </tbody>\n",
       "</table>\n",
       "</div>"
      ],
      "text/plain": [
       "   is_depression                                               post  \\\n",
       "0              0  unless get extremely stoned often come stop th...   \n",
       "1              1  saw george floyd clip know part cries mama mad...   \n",
       "2              1  sexual relationships since lost virginity bu s...   \n",
       "3              1  well end year 5 days hand rest school work don...   \n",
       "4              1  anyone suffering depression job looking simple...   \n",
       "\n",
       "                                            title  post_word_count  \\\n",
       "0  get intrusive thoughts memories physical abuse              261   \n",
       "1                              kids afraid crying              363   \n",
       "2                  nicotine replaced sexual urges              383   \n",
       "3                      hate school disappointment              613   \n",
       "4                        suffering depression job               61   \n",
       "\n",
       "                                           all_words  \n",
       "0  get intrusive thoughts memories physical abuse...  \n",
       "1  kids afraid crying saw george floyd clip know ...  \n",
       "2  nicotine replaced sexual urges sexual relation...  \n",
       "3  hate school disappointment well end year 5 day...  \n",
       "4  suffering depression job anyone suffering depr...  "
      ]
     },
     "execution_count": 2,
     "metadata": {},
     "output_type": "execute_result"
    }
   ],
   "source": [
    "model_df = pd.read_csv('./data/dv_depression_cleaned_for_model_final.csv')\n",
    "model_df.head()"
   ]
  },
  {
   "cell_type": "code",
   "execution_count": 3,
   "metadata": {
    "scrolled": true
   },
   "outputs": [
    {
     "name": "stdout",
     "output_type": "stream",
     "text": [
      "<class 'pandas.core.frame.DataFrame'>\n",
      "RangeIndex: 1958 entries, 0 to 1957\n",
      "Data columns (total 5 columns):\n",
      " #   Column           Non-Null Count  Dtype \n",
      "---  ------           --------------  ----- \n",
      " 0   is_depression    1958 non-null   int64 \n",
      " 1   post             1958 non-null   object\n",
      " 2   title            1958 non-null   object\n",
      " 3   post_word_count  1958 non-null   int64 \n",
      " 4   all_words        1958 non-null   object\n",
      "dtypes: int64(2), object(3)\n",
      "memory usage: 76.6+ KB\n"
     ]
    }
   ],
   "source": [
    "#no null values\n",
    "model_df.info()"
   ]
  },
  {
   "cell_type": "markdown",
   "metadata": {},
   "source": [
    "---\n",
    "## Logistic regression model\n",
    "\n",
    "I created functions that would run and return the performance of a Count Vectorization with Logistic Regression model and TF-IDF Vectorization with Logistic Regression model on all feature columns, i.e., ```title```(words in title), ```post```(words in post), ```all_words```(all words in title and post). The dataframes below show the performance of each feature matrix.\n",
    "\n",
    "The best model was TF-IDF Vectorization with Logistic Regression model with the ```all_words``` column as the feature matrix\n",
    "\n",
    "It has the highest accuracy score and least variance between train and test scores. It also has the highest sensitivity, specificity, precision, ROC AUC score and f1-score"
   ]
  },
  {
   "cell_type": "code",
   "execution_count": 4,
   "metadata": {},
   "outputs": [],
   "source": [
    "def cvec_lr_model(list_of_col):\n",
    "\n",
    "    results_list = []\n",
    "    for col in list_of_col:\n",
    "    \n",
    "    #features matrix(X) and target vector(y)\n",
    "        X = model_df[col]\n",
    "        y = model_df['is_depression']\n",
    "\n",
    "        #train-test-split\n",
    "        X_train, X_test, y_train, y_test = train_test_split(X, y, test_size = 0.25, \n",
    "                                                            stratify=y, \n",
    "                                                            random_state = 42)\n",
    "\n",
    "        #instantiate cvec\n",
    "        cvec = CountVectorizer()\n",
    "\n",
    "        #fit and transform\n",
    "        X_train = cvec.fit_transform(X_train).todense()\n",
    "        X_test = cvec.transform(X_test).todense()\n",
    "\n",
    "        #instantiate multinomial nb\n",
    "        lr = LogisticRegression()\n",
    "\n",
    "        #fit nb \n",
    "        lr.fit(X_train, y_train)\n",
    "\n",
    "        #preds from nb model \n",
    "        pred = lr.predict(X_test)\n",
    "\n",
    "        #generate confusion matrix\n",
    "        tn, fp, fn, tp = confusion_matrix(y_test, pred).ravel()\n",
    "\n",
    "        #calculate roc auc score \n",
    "        pred_proba = [i[1] for i in lr.predict_proba(X_test)]\n",
    "        roc = roc_auc_score(y_test, pred_proba)\n",
    "\n",
    "        #create table of results using dictionary\n",
    "        results = {}\n",
    "        results['features matrix (X)'] = col\n",
    "        results['model'] = 'cvec + logistic regression'\n",
    "        results['train accuracy score'] = lr.score(X_train, y_train)\n",
    "        results['test accuracy score'] = lr.score(X_test, y_test)\n",
    "        results['confusion matrix'] = {'tn':tn, 'fp': fp, 'fn': fn, 'tp': tp}\n",
    "        results['sensitivity'] = tp/(tp+fn)\n",
    "        results['specificity'] = tn/(tn+fp)\n",
    "        results['precision'] = tp/(tp+fp)\n",
    "        results['roc auc score'] = roc\n",
    "        results['train f1-score'] = f1_score((lr.predict(X_train)), y_train)\n",
    "        results['test f1-score'] = f1_score(pred, y_test)\n",
    "\n",
    "        results \n",
    "        \n",
    "        #append results dict to results_list\n",
    "        results_list.append(results)\n",
    "        \n",
    "    #return dataframe of results for each model\n",
    "    return(pd.DataFrame(results_list)).round(2)"
   ]
  },
  {
   "cell_type": "code",
   "execution_count": 5,
   "metadata": {},
   "outputs": [],
   "source": [
    "def tvec_lr_model(list_of_col):\n",
    "\n",
    "    results_list = []\n",
    "    for col in list_of_col:\n",
    "    \n",
    "    #features matrix(X) and target vector(y)\n",
    "        X = model_df[col]\n",
    "        y = model_df['is_depression']\n",
    "\n",
    "        #train-test-split\n",
    "        X_train, X_test, y_train, y_test = train_test_split(X, y, test_size = 0.25, \n",
    "                                                            stratify=y, \n",
    "                                                            random_state = 42)\n",
    "\n",
    "        #instantiate cvec\n",
    "        tvec = TfidfVectorizer()\n",
    "\n",
    "        #fit and transform\n",
    "        X_train = tvec.fit_transform(X_train).todense()\n",
    "        X_test = tvec.transform(X_test).todense()\n",
    "\n",
    "        #instantiate multinomial nb\n",
    "        lr = LogisticRegression()\n",
    "\n",
    "        #fit nb \n",
    "        lr.fit(X_train, y_train)\n",
    "\n",
    "        #preds from nb model \n",
    "        pred = lr.predict(X_test)\n",
    "\n",
    "        #generate confusion matrix\n",
    "        tn, fp, fn, tp = confusion_matrix(y_test, pred).ravel()\n",
    "\n",
    "        #calculate roc auc score \n",
    "        pred_proba = [i[1] for i in lr.predict_proba(X_test)]\n",
    "        roc = roc_auc_score(y_test, pred_proba)\n",
    "\n",
    "        #create table of results using dictionary\n",
    "        results = {}\n",
    "        results['features matrix (X)'] = col\n",
    "        results['model'] = 'tvec + logistic regression'\n",
    "        results['train accuracy score'] = lr.score(X_train, y_train)\n",
    "        results['test accuracy score'] = lr.score(X_test, y_test)\n",
    "        results['confusion matrix'] = {'tn':tn, 'fp': fp, 'fn': fn, 'tp': tp}\n",
    "        results['sensitivity'] = tp/(tp+fn)\n",
    "        results['specificity'] = tn/(tn+fp)\n",
    "        results['precision'] = tp/(tp+fp)\n",
    "        results['roc auc score'] = roc\n",
    "        results['train f1-score'] = f1_score((lr.predict(X_train)), y_train)\n",
    "        results['test f1-score'] = f1_score(pred, y_test)\n",
    "\n",
    "        results \n",
    "        \n",
    "        #append results dict to results_list\n",
    "        results_list.append(results)\n",
    "        \n",
    "    #return dataframe of results for each model\n",
    "    return(pd.DataFrame(results_list)).round(2)"
   ]
  },
  {
   "cell_type": "markdown",
   "metadata": {},
   "source": [
    "**Count Vectorization involves counting the number of occurrences each words appears in a document**"
   ]
  },
  {
   "cell_type": "code",
   "execution_count": 6,
   "metadata": {
    "scrolled": true
   },
   "outputs": [
    {
     "data": {
      "text/html": [
       "<div>\n",
       "<style scoped>\n",
       "    .dataframe tbody tr th:only-of-type {\n",
       "        vertical-align: middle;\n",
       "    }\n",
       "\n",
       "    .dataframe tbody tr th {\n",
       "        vertical-align: top;\n",
       "    }\n",
       "\n",
       "    .dataframe thead th {\n",
       "        text-align: right;\n",
       "    }\n",
       "</style>\n",
       "<table border=\"1\" class=\"dataframe\">\n",
       "  <thead>\n",
       "    <tr style=\"text-align: right;\">\n",
       "      <th></th>\n",
       "      <th>features matrix (X)</th>\n",
       "      <th>model</th>\n",
       "      <th>train accuracy score</th>\n",
       "      <th>test accuracy score</th>\n",
       "      <th>confusion matrix</th>\n",
       "      <th>sensitivity</th>\n",
       "      <th>specificity</th>\n",
       "      <th>precision</th>\n",
       "      <th>roc auc score</th>\n",
       "      <th>train f1-score</th>\n",
       "      <th>test f1-score</th>\n",
       "    </tr>\n",
       "  </thead>\n",
       "  <tbody>\n",
       "    <tr>\n",
       "      <th>0</th>\n",
       "      <td>title</td>\n",
       "      <td>cvec + logistic regression</td>\n",
       "      <td>0.94</td>\n",
       "      <td>0.79</td>\n",
       "      <td>{'tn': 189, 'fp': 61, 'fn': 41, 'tp': 199}</td>\n",
       "      <td>0.83</td>\n",
       "      <td>0.76</td>\n",
       "      <td>0.77</td>\n",
       "      <td>0.88</td>\n",
       "      <td>0.94</td>\n",
       "      <td>0.80</td>\n",
       "    </tr>\n",
       "    <tr>\n",
       "      <th>1</th>\n",
       "      <td>post</td>\n",
       "      <td>cvec + logistic regression</td>\n",
       "      <td>0.99</td>\n",
       "      <td>0.90</td>\n",
       "      <td>{'tn': 212, 'fp': 38, 'fn': 9, 'tp': 231}</td>\n",
       "      <td>0.96</td>\n",
       "      <td>0.85</td>\n",
       "      <td>0.86</td>\n",
       "      <td>0.97</td>\n",
       "      <td>0.99</td>\n",
       "      <td>0.91</td>\n",
       "    </tr>\n",
       "    <tr>\n",
       "      <th>2</th>\n",
       "      <td>all_words</td>\n",
       "      <td>cvec + logistic regression</td>\n",
       "      <td>1.00</td>\n",
       "      <td>0.94</td>\n",
       "      <td>{'tn': 228, 'fp': 22, 'fn': 8, 'tp': 232}</td>\n",
       "      <td>0.97</td>\n",
       "      <td>0.91</td>\n",
       "      <td>0.91</td>\n",
       "      <td>0.98</td>\n",
       "      <td>1.00</td>\n",
       "      <td>0.94</td>\n",
       "    </tr>\n",
       "  </tbody>\n",
       "</table>\n",
       "</div>"
      ],
      "text/plain": [
       "  features matrix (X)                       model  train accuracy score  \\\n",
       "0               title  cvec + logistic regression                  0.94   \n",
       "1                post  cvec + logistic regression                  0.99   \n",
       "2           all_words  cvec + logistic regression                  1.00   \n",
       "\n",
       "   test accuracy score                            confusion matrix  \\\n",
       "0                 0.79  {'tn': 189, 'fp': 61, 'fn': 41, 'tp': 199}   \n",
       "1                 0.90   {'tn': 212, 'fp': 38, 'fn': 9, 'tp': 231}   \n",
       "2                 0.94   {'tn': 228, 'fp': 22, 'fn': 8, 'tp': 232}   \n",
       "\n",
       "   sensitivity  specificity  precision  roc auc score  train f1-score  \\\n",
       "0         0.83         0.76       0.77           0.88            0.94   \n",
       "1         0.96         0.85       0.86           0.97            0.99   \n",
       "2         0.97         0.91       0.91           0.98            1.00   \n",
       "\n",
       "   test f1-score  \n",
       "0           0.80  \n",
       "1           0.91  \n",
       "2           0.94  "
      ]
     },
     "execution_count": 6,
     "metadata": {},
     "output_type": "execute_result"
    }
   ],
   "source": [
    "cvec_lr_model(['title', 'post', 'all_words'])"
   ]
  },
  {
   "cell_type": "markdown",
   "metadata": {},
   "source": [
    "**Term Frequency-Inverse Document Frequency (TF-IDF) tells whether a word appears frequently in some posts and less frequently in others**"
   ]
  },
  {
   "cell_type": "code",
   "execution_count": 7,
   "metadata": {
    "scrolled": true
   },
   "outputs": [
    {
     "data": {
      "text/html": [
       "<div>\n",
       "<style scoped>\n",
       "    .dataframe tbody tr th:only-of-type {\n",
       "        vertical-align: middle;\n",
       "    }\n",
       "\n",
       "    .dataframe tbody tr th {\n",
       "        vertical-align: top;\n",
       "    }\n",
       "\n",
       "    .dataframe thead th {\n",
       "        text-align: right;\n",
       "    }\n",
       "</style>\n",
       "<table border=\"1\" class=\"dataframe\">\n",
       "  <thead>\n",
       "    <tr style=\"text-align: right;\">\n",
       "      <th></th>\n",
       "      <th>features matrix (X)</th>\n",
       "      <th>model</th>\n",
       "      <th>train accuracy score</th>\n",
       "      <th>test accuracy score</th>\n",
       "      <th>confusion matrix</th>\n",
       "      <th>sensitivity</th>\n",
       "      <th>specificity</th>\n",
       "      <th>precision</th>\n",
       "      <th>roc auc score</th>\n",
       "      <th>train f1-score</th>\n",
       "      <th>test f1-score</th>\n",
       "    </tr>\n",
       "  </thead>\n",
       "  <tbody>\n",
       "    <tr>\n",
       "      <th>0</th>\n",
       "      <td>title</td>\n",
       "      <td>tvec + logistic regression</td>\n",
       "      <td>0.93</td>\n",
       "      <td>0.81</td>\n",
       "      <td>{'tn': 201, 'fp': 49, 'fn': 44, 'tp': 196}</td>\n",
       "      <td>0.82</td>\n",
       "      <td>0.80</td>\n",
       "      <td>0.80</td>\n",
       "      <td>0.88</td>\n",
       "      <td>0.93</td>\n",
       "      <td>0.81</td>\n",
       "    </tr>\n",
       "    <tr>\n",
       "      <th>1</th>\n",
       "      <td>post</td>\n",
       "      <td>tvec + logistic regression</td>\n",
       "      <td>0.97</td>\n",
       "      <td>0.92</td>\n",
       "      <td>{'tn': 224, 'fp': 26, 'fn': 13, 'tp': 227}</td>\n",
       "      <td>0.95</td>\n",
       "      <td>0.90</td>\n",
       "      <td>0.90</td>\n",
       "      <td>0.98</td>\n",
       "      <td>0.97</td>\n",
       "      <td>0.92</td>\n",
       "    </tr>\n",
       "    <tr>\n",
       "      <th>2</th>\n",
       "      <td>all_words</td>\n",
       "      <td>tvec + logistic regression</td>\n",
       "      <td>0.98</td>\n",
       "      <td>0.94</td>\n",
       "      <td>{'tn': 232, 'fp': 18, 'fn': 9, 'tp': 231}</td>\n",
       "      <td>0.96</td>\n",
       "      <td>0.93</td>\n",
       "      <td>0.93</td>\n",
       "      <td>0.98</td>\n",
       "      <td>0.98</td>\n",
       "      <td>0.94</td>\n",
       "    </tr>\n",
       "  </tbody>\n",
       "</table>\n",
       "</div>"
      ],
      "text/plain": [
       "  features matrix (X)                       model  train accuracy score  \\\n",
       "0               title  tvec + logistic regression                  0.93   \n",
       "1                post  tvec + logistic regression                  0.97   \n",
       "2           all_words  tvec + logistic regression                  0.98   \n",
       "\n",
       "   test accuracy score                            confusion matrix  \\\n",
       "0                 0.81  {'tn': 201, 'fp': 49, 'fn': 44, 'tp': 196}   \n",
       "1                 0.92  {'tn': 224, 'fp': 26, 'fn': 13, 'tp': 227}   \n",
       "2                 0.94   {'tn': 232, 'fp': 18, 'fn': 9, 'tp': 231}   \n",
       "\n",
       "   sensitivity  specificity  precision  roc auc score  train f1-score  \\\n",
       "0         0.82         0.80       0.80           0.88            0.93   \n",
       "1         0.95         0.90       0.90           0.98            0.97   \n",
       "2         0.96         0.93       0.93           0.98            0.98   \n",
       "\n",
       "   test f1-score  \n",
       "0           0.81  \n",
       "1           0.92  \n",
       "2           0.94  "
      ]
     },
     "execution_count": 7,
     "metadata": {},
     "output_type": "execute_result"
    }
   ],
   "source": [
    "tvec_lr_model(['title', 'post', 'all_words'])"
   ]
  },
  {
   "cell_type": "markdown",
   "metadata": {},
   "source": [
    "#### The best model is TF-IDF Vectorization with logistic regression with the ```all_words``` column as the feature matrix. \n",
    "It has the highest accuracy score and least variance between train and test scores. It also has the highest sensitivity,\tspecificity,\tprecision,\tROC AUC score and  f1-score (also least variance betweem train and test)"
   ]
  },
  {
   "cell_type": "markdown",
   "metadata": {},
   "source": [
    "---\n",
    "## Optimising parameters for logistic regression model\n",
    "Since we have already found the best combination of features matrix and model, I will now optimise the hyperparameters of the chosen model, before fitting and calculating the performance of the model with these metrics, as seen in the dataframe below:\n",
    "- Accuracy score\n",
    "- ROC AUC score\n",
    "- Sensitivity score\n",
    "- Specificity score \n",
    "- Precision score\n",
    "- f1-score\n",
    "\n",
    "I have limited the ```max_features``` to 500 so that the 40 most significant features can be differentiated by their coefficients (in Insight section), while not significantly affecting the scores of the model"
   ]
  },
  {
   "cell_type": "code",
   "execution_count": 8,
   "metadata": {},
   "outputs": [
    {
     "name": "stdout",
     "output_type": "stream",
     "text": [
      "Fitting 5 folds for each of 540 candidates, totalling 2700 fits\n"
     ]
    },
    {
     "name": "stderr",
     "output_type": "stream",
     "text": [
      "[Parallel(n_jobs=-1)]: Using backend LokyBackend with 4 concurrent workers.\n",
      "[Parallel(n_jobs=-1)]: Done  42 tasks      | elapsed:    8.1s\n",
      "[Parallel(n_jobs=-1)]: Done 192 tasks      | elapsed:   33.1s\n",
      "[Parallel(n_jobs=-1)]: Done 442 tasks      | elapsed:  1.3min\n",
      "[Parallel(n_jobs=-1)]: Done 792 tasks      | elapsed:  2.3min\n",
      "[Parallel(n_jobs=-1)]: Done 1242 tasks      | elapsed:  3.5min\n",
      "[Parallel(n_jobs=-1)]: Done 1792 tasks      | elapsed:  4.9min\n",
      "[Parallel(n_jobs=-1)]: Done 2442 tasks      | elapsed:  6.9min\n",
      "[Parallel(n_jobs=-1)]: Done 2700 out of 2700 | elapsed:  7.9min finished\n"
     ]
    },
    {
     "data": {
      "text/plain": [
       "GridSearchCV(cv=5, error_score=nan,\n",
       "             estimator=Pipeline(memory=None,\n",
       "                                steps=[('tvec',\n",
       "                                        TfidfVectorizer(analyzer='word',\n",
       "                                                        binary=False,\n",
       "                                                        decode_error='strict',\n",
       "                                                        dtype=<class 'numpy.float64'>,\n",
       "                                                        encoding='utf-8',\n",
       "                                                        input='content',\n",
       "                                                        lowercase=True,\n",
       "                                                        max_df=1.0,\n",
       "                                                        max_features=None,\n",
       "                                                        min_df=1,\n",
       "                                                        ngram_range=(1, 1),\n",
       "                                                        norm='l2',\n",
       "                                                        preprocessor=None,\n",
       "                                                        smooth_idf=True,\n",
       "                                                        stop_words=None,\n",
       "                                                        strip_acce...\n",
       "             param_grid={'lr__C': array([1.00000000e-05, 4.64158883e-05, 2.15443469e-04, 1.00000000e-03,\n",
       "       4.64158883e-03, 2.15443469e-02, 1.00000000e-01, 4.64158883e-01,\n",
       "       2.15443469e+00, 1.00000000e+01]),\n",
       "                         'lr__penalty': ['l1', 'l2'],\n",
       "                         'tvec__max_df': [0.2, 0.3, 0.7],\n",
       "                         'tvec__max_features': [100, 200, 500],\n",
       "                         'tvec__min_df': [2, 4, 6],\n",
       "                         'tvec__ngram_range': [(1, 1)]},\n",
       "             pre_dispatch='2*n_jobs', refit=True, return_train_score=False,\n",
       "             scoring=None, verbose=1)"
      ]
     },
     "execution_count": 8,
     "metadata": {},
     "output_type": "execute_result"
    }
   ],
   "source": [
    "#features matrix and target vector\n",
    "X = model_df['all_words']\n",
    "y = model_df['is_depression']\n",
    "\n",
    "#train-test-split\n",
    "X_train, X_test, y_train, y_test = train_test_split(X, y, test_size = 0.25, stratify=y, \n",
    "                                                    random_state = 42)\n",
    "\n",
    "#optimising hyperparameters \n",
    "pipe = Pipeline([\n",
    "    ('tvec', TfidfVectorizer()),\n",
    "    ('lr', LogisticRegression(solver = 'liblinear'))\n",
    "])\n",
    "\n",
    "pipe_params = {\n",
    "    'tvec__max_features': [100, 200, 500],\n",
    "    'tvec__min_df': [2, 4, 6],\n",
    "    'tvec__max_df': [0.2, 0.3, 0.7],\n",
    "    'tvec__ngram_range': [(1,1)],\n",
    "    'lr__penalty': ['l1', 'l2'],\n",
    "    'lr__C': np.logspace(-5, 1, 10)\n",
    "}\n",
    "\n",
    "gscv = GridSearchCV(pipe, pipe_params, cv=5, n_jobs =-1, verbose=1)\n",
    "gscv.fit(X_train, y_train)"
   ]
  },
  {
   "cell_type": "code",
   "execution_count": 9,
   "metadata": {},
   "outputs": [
    {
     "data": {
      "text/plain": [
       "{'lr__C': 2.154434690031882,\n",
       " 'lr__penalty': 'l2',\n",
       " 'tvec__max_df': 0.7,\n",
       " 'tvec__max_features': 500,\n",
       " 'tvec__min_df': 6,\n",
       " 'tvec__ngram_range': (1, 1)}"
      ]
     },
     "execution_count": 9,
     "metadata": {},
     "output_type": "execute_result"
    }
   ],
   "source": [
    "gscv.best_params_"
   ]
  },
  {
   "cell_type": "code",
   "execution_count": 10,
   "metadata": {},
   "outputs": [
    {
     "data": {
      "text/plain": [
       "Pipeline(memory=None,\n",
       "         steps=[('tvec',\n",
       "                 TfidfVectorizer(analyzer='word', binary=False,\n",
       "                                 decode_error='strict',\n",
       "                                 dtype=<class 'numpy.float64'>,\n",
       "                                 encoding='utf-8', input='content',\n",
       "                                 lowercase=True, max_df=0.7, max_features=500,\n",
       "                                 min_df=6, ngram_range=(1, 1), norm='l2',\n",
       "                                 preprocessor=None, smooth_idf=True,\n",
       "                                 stop_words=None, strip_accents=None,\n",
       "                                 sublinear_tf=False,\n",
       "                                 token_pattern='(?u)\\\\b\\\\w\\\\w+\\\\b',\n",
       "                                 tokenizer=None, use_idf=True,\n",
       "                                 vocabulary=None)),\n",
       "                ('lr',\n",
       "                 LogisticRegression(C=2.154434690031882, class_weight=None,\n",
       "                                    dual=False, fit_intercept=True,\n",
       "                                    intercept_scaling=1, l1_ratio=None,\n",
       "                                    max_iter=100, multi_class='auto',\n",
       "                                    n_jobs=None, penalty='l2',\n",
       "                                    random_state=None, solver='liblinear',\n",
       "                                    tol=0.0001, verbose=0, warm_start=False))],\n",
       "         verbose=False)"
      ]
     },
     "execution_count": 10,
     "metadata": {},
     "output_type": "execute_result"
    }
   ],
   "source": [
    "#fitting model with optimised params \n",
    "best_gscv = gscv.best_estimator_\n",
    "best_gscv.fit(X_train, y_train)"
   ]
  },
  {
   "cell_type": "code",
   "execution_count": 11,
   "metadata": {},
   "outputs": [
    {
     "data": {
      "text/html": [
       "<div>\n",
       "<style scoped>\n",
       "    .dataframe tbody tr th:only-of-type {\n",
       "        vertical-align: middle;\n",
       "    }\n",
       "\n",
       "    .dataframe tbody tr th {\n",
       "        vertical-align: top;\n",
       "    }\n",
       "\n",
       "    .dataframe thead th {\n",
       "        text-align: right;\n",
       "    }\n",
       "</style>\n",
       "<table border=\"1\" class=\"dataframe\">\n",
       "  <thead>\n",
       "    <tr style=\"text-align: right;\">\n",
       "      <th></th>\n",
       "      <th>0</th>\n",
       "    </tr>\n",
       "  </thead>\n",
       "  <tbody>\n",
       "    <tr>\n",
       "      <th>features_matrix</th>\n",
       "      <td>all_words</td>\n",
       "    </tr>\n",
       "    <tr>\n",
       "      <th>model</th>\n",
       "      <td>tvec + logistic regression</td>\n",
       "    </tr>\n",
       "    <tr>\n",
       "      <th>optimised_params</th>\n",
       "      <td>{'lr__C': 2.154434690031882, 'lr__penalty': 'l2', 'tvec__max_df': 0.7, 'tvec__max_features': 500, 'tvec__min_df': 6, 'tvec__ngram_range': (1, 1)}</td>\n",
       "    </tr>\n",
       "    <tr>\n",
       "      <th>train_score</th>\n",
       "      <td>0.969346</td>\n",
       "    </tr>\n",
       "    <tr>\n",
       "      <th>test_score</th>\n",
       "      <td>0.936735</td>\n",
       "    </tr>\n",
       "    <tr>\n",
       "      <th>confusion_matrix</th>\n",
       "      <td>tn: 229, fp: 21, fn: 10, tp: 230</td>\n",
       "    </tr>\n",
       "    <tr>\n",
       "      <th>sensitivity</th>\n",
       "      <td>0.958333</td>\n",
       "    </tr>\n",
       "    <tr>\n",
       "      <th>specificity</th>\n",
       "      <td>0.916</td>\n",
       "    </tr>\n",
       "    <tr>\n",
       "      <th>precision</th>\n",
       "      <td>0.916335</td>\n",
       "    </tr>\n",
       "    <tr>\n",
       "      <th>roc_auc_score</th>\n",
       "      <td>0.980483</td>\n",
       "    </tr>\n",
       "    <tr>\n",
       "      <th>train_f1</th>\n",
       "      <td>0.968858</td>\n",
       "    </tr>\n",
       "    <tr>\n",
       "      <th>test_f1</th>\n",
       "      <td>0.936864</td>\n",
       "    </tr>\n",
       "  </tbody>\n",
       "</table>\n",
       "</div>"
      ],
      "text/plain": [
       "                                                                                                                                                                  0\n",
       "features_matrix                                                                                                                                           all_words\n",
       "model                                                                                                                                    tvec + logistic regression\n",
       "optimised_params  {'lr__C': 2.154434690031882, 'lr__penalty': 'l2', 'tvec__max_df': 0.7, 'tvec__max_features': 500, 'tvec__min_df': 6, 'tvec__ngram_range': (1, 1)}\n",
       "train_score                                                                                                                                                0.969346\n",
       "test_score                                                                                                                                                 0.936735\n",
       "confusion_matrix                                                                                                                   tn: 229, fp: 21, fn: 10, tp: 230\n",
       "sensitivity                                                                                                                                                0.958333\n",
       "specificity                                                                                                                                                   0.916\n",
       "precision                                                                                                                                                  0.916335\n",
       "roc_auc_score                                                                                                                                              0.980483\n",
       "train_f1                                                                                                                                                   0.968858\n",
       "test_f1                                                                                                                                                    0.936864"
      ]
     },
     "execution_count": 11,
     "metadata": {},
     "output_type": "execute_result"
    }
   ],
   "source": [
    "#create dataframe of metrics based on optimised model \n",
    "opt_results = pd.DataFrame()\n",
    "\n",
    "opt_results['features_matrix'] = ['all_words']\n",
    "opt_results['model'] = ['tvec + logistic regression']\n",
    "opt_results['optimised_params'] = [gscv.best_params_]\n",
    "opt_results['train_score'] = best_gscv.score(X_train, y_train)\n",
    "opt_results['test_score'] = best_gscv.score(X_test, y_test)\n",
    "\n",
    "preds = best_gscv.predict(X_test)\n",
    "tn, fp, fn, tp = cm = confusion_matrix(y_test, preds).ravel()\n",
    "\n",
    "opt_results['confusion_matrix'] = [f'tn: {tn}, fp: {fp}, fn: {fn}, tp: {tp}']\n",
    "opt_results['sensitivity'] = tp/(tp+fn)\n",
    "opt_results['specificity'] = tn/(tn+fp)\n",
    "opt_results['precision'] = tp/(tp+fp)\n",
    "\n",
    "pred_proba = [i[1] for i in best_gscv.predict_proba(X_test)]\n",
    "\n",
    "opt_results['roc_auc_score'] = roc_auc_score(y_test, pred_proba)\n",
    "opt_results['train_f1'] = f1_score((best_gscv.predict(X_train)), y_train)\n",
    "opt_results['test_f1'] = f1_score(preds, y_test)\n",
    "\n",
    "pd.set_option('display.max_colwidth', None)\n",
    "opt_results.T"
   ]
  },
  {
   "cell_type": "code",
   "execution_count": 12,
   "metadata": {},
   "outputs": [],
   "source": [
    "#export opt_results for use in final model \n",
    "opt_results.to_csv('./data/best_logistic_regression.csv', index=False)"
   ]
  },
  {
   "cell_type": "markdown",
   "metadata": {},
   "source": [
    "### ROC curve\n",
    "The ROC curve shows how well the model is at interpreting classes (0 and 1). The more area between the ROC (blue) curve and baseline (yellow line), the better separated the distributions of 0 and 1.\n",
    "An ROC AUC score of 0.976 means that the distribution is well separated, there is little overlap between false positive and false negatives, therefore minimising wrong predictions"
   ]
  },
  {
   "cell_type": "code",
   "execution_count": 13,
   "metadata": {},
   "outputs": [
    {
     "data": {
      "text/html": [
       "<div>\n",
       "<style scoped>\n",
       "    .dataframe tbody tr th:only-of-type {\n",
       "        vertical-align: middle;\n",
       "    }\n",
       "\n",
       "    .dataframe tbody tr th {\n",
       "        vertical-align: top;\n",
       "    }\n",
       "\n",
       "    .dataframe thead th {\n",
       "        text-align: right;\n",
       "    }\n",
       "</style>\n",
       "<table border=\"1\" class=\"dataframe\">\n",
       "  <thead>\n",
       "    <tr style=\"text-align: right;\">\n",
       "      <th></th>\n",
       "      <th>true_values</th>\n",
       "      <th>pred_probs</th>\n",
       "    </tr>\n",
       "  </thead>\n",
       "  <tbody>\n",
       "    <tr>\n",
       "      <th>353</th>\n",
       "      <td>0</td>\n",
       "      <td>0.001879</td>\n",
       "    </tr>\n",
       "    <tr>\n",
       "      <th>1954</th>\n",
       "      <td>0</td>\n",
       "      <td>0.087163</td>\n",
       "    </tr>\n",
       "    <tr>\n",
       "      <th>703</th>\n",
       "      <td>0</td>\n",
       "      <td>0.124537</td>\n",
       "    </tr>\n",
       "    <tr>\n",
       "      <th>910</th>\n",
       "      <td>0</td>\n",
       "      <td>0.113748</td>\n",
       "    </tr>\n",
       "    <tr>\n",
       "      <th>1525</th>\n",
       "      <td>0</td>\n",
       "      <td>0.200588</td>\n",
       "    </tr>\n",
       "  </tbody>\n",
       "</table>\n",
       "</div>"
      ],
      "text/plain": [
       "      true_values  pred_probs\n",
       "353             0    0.001879\n",
       "1954            0    0.087163\n",
       "703             0    0.124537\n",
       "910             0    0.113748\n",
       "1525            0    0.200588"
      ]
     },
     "execution_count": 13,
     "metadata": {},
     "output_type": "execute_result"
    }
   ],
   "source": [
    "pred_df = pd.DataFrame({'true_values': y_test,'pred_probs':pred_proba})\n",
    "pred_df.head()"
   ]
  },
  {
   "cell_type": "code",
   "execution_count": 14,
   "metadata": {},
   "outputs": [
    {
     "data": {
      "image/png": "[encoded data removed]",
      "text/plain": [
       "<Figure size 720x504 with 1 Axes>"
      ]
     },
     "metadata": {
      "needs_background": "light"
     },
     "output_type": "display_data"
    }
   ],
   "source": [
    "# Create figure.\n",
    "plt.figure(figsize = (10,7))\n",
    "\n",
    "# Create threshold values. (Dashed red line in image.)\n",
    "thresholds = np.linspace(0, 1, 200)\n",
    "\n",
    "# Define function to calculate sensitivity. (True positive rate.)\n",
    "def TPR(df, true_col, pred_prob_col, threshold):\n",
    "    true_positive = df[(df[true_col] == 1) & (df[pred_prob_col] >= threshold)].shape[0]\n",
    "    false_negative = df[(df[true_col] == 1) & (df[pred_prob_col] < threshold)].shape[0]\n",
    "    return true_positive / (true_positive + false_negative)\n",
    "    \n",
    "# Define function to calculate 1 - specificity. (False positive rate.)\n",
    "def FPR(df, true_col, pred_prob_col, threshold):\n",
    "    true_negative = df[(df[true_col] == 0) & (df[pred_prob_col] <= threshold)].shape[0]\n",
    "    false_positive = df[(df[true_col] == 0) & (df[pred_prob_col] > threshold)].shape[0]\n",
    "    return 1 - (true_negative / (true_negative + false_positive))\n",
    "    \n",
    "# Calculate sensitivity & 1-specificity for each threshold between 0 and 1.\n",
    "tpr_values = [TPR(pred_df, 'true_values', 'pred_probs', prob) for prob in thresholds]\n",
    "fpr_values = [FPR(pred_df, 'true_values', 'pred_probs', prob) for prob in thresholds]\n",
    "\n",
    "# Plot ROC curve.\n",
    "plt.plot(fpr_values, # False Positive Rate on X-axis\n",
    "         tpr_values, # True Positive Rate on Y-axis\n",
    "         label='ROC Curve')\n",
    "\n",
    "# Plot baseline. (Perfect overlap between the two populations.)\n",
    "plt.plot(np.linspace(0, 1, 200),\n",
    "         np.linspace(0, 1, 200),\n",
    "         label='baseline',\n",
    "         linestyle='--')\n",
    "\n",
    "# Label axes.\n",
    "plt.title(f\"ROC Curve with AUC = {round(roc_auc_score(pred_df['true_values'], pred_df['pred_probs']),3)}\", fontsize=22)\n",
    "plt.ylabel('Sensitivity', fontsize=18)\n",
    "plt.xlabel('1 - Specificity', fontsize=18)\n",
    "\n",
    "# Create legend.\n",
    "plt.legend(fontsize=16);"
   ]
  },
  {
   "cell_type": "markdown",
   "metadata": {},
   "source": [
    "---\n",
    "## Insights from logistic regression model\n",
    "\n",
    "### Words with largest coefficient values \n",
    "\n",
    "From the top 500 most significant words (```max_features```), I have plotted a bar graph to show which words affect the prediction of target vector ```is_depression``` the most.\n",
    "\n",
    "**The top 20 words have the largest positive coefficient values. They POSITVELY affect the probability of ```is_depression``` the most.**\n",
    "- The top 20 words are: ```depression, depressed, life, shit, better, suicide, fucking, suicidal, people, wanna, feeling, wish, hate, die, friends, anymore, dont, happy, anxiety, tired```\n",
    "- As word count of ```depression``` increases by 1, the probability of target vector ```is_depression``` is increased by 5.01 times, i.e., higher probability of belonging in r/depression subreddit\n",
    "\n",
    "**The bottom 20 words have the largest negative coefficient values. They NEGATIVELY affect the probability of ```is_depression``` the most.**\n",
    "- The bottom 20 words are: ```abuse, abusive, abuser, violence, police, ex, leave, domestic, hit, relationship, abusedm order, violent, husband, boyfriend, hurt, together, physical, advice, court ```\n",
    "- As word count of ```abusive``` increases by 1, the probability of target vector ```is_depression``` is reduced by  5.29 times, i.e., higher probability of belonging in r/domesticviolence subreddit \n"
   ]
  },
  {
   "cell_type": "code",
   "execution_count": 15,
   "metadata": {},
   "outputs": [
    {
     "data": {
      "text/plain": [
       "(1, 500)"
      ]
     },
     "execution_count": 15,
     "metadata": {},
     "output_type": "execute_result"
    }
   ],
   "source": [
    "#finding coefficients of 500 most siginificant features from model \n",
    "coefs = best_gscv.named_steps['lr'].coef_\n",
    "coefs.shape"
   ]
  },
  {
   "cell_type": "code",
   "execution_count": 16,
   "metadata": {},
   "outputs": [
    {
     "data": {
      "text/plain": [
       "500"
      ]
     },
     "execution_count": 16,
     "metadata": {},
     "output_type": "execute_result"
    }
   ],
   "source": [
    "features = best_gscv.named_steps['tvec'].get_feature_names()\n",
    "len(features)"
   ]
  },
  {
   "cell_type": "code",
   "execution_count": 17,
   "metadata": {},
   "outputs": [
    {
     "data": {
      "text/html": [
       "<div>\n",
       "<style scoped>\n",
       "    .dataframe tbody tr th:only-of-type {\n",
       "        vertical-align: middle;\n",
       "    }\n",
       "\n",
       "    .dataframe tbody tr th {\n",
       "        vertical-align: top;\n",
       "    }\n",
       "\n",
       "    .dataframe thead th {\n",
       "        text-align: right;\n",
       "    }\n",
       "</style>\n",
       "<table border=\"1\" class=\"dataframe\">\n",
       "  <thead>\n",
       "    <tr style=\"text-align: right;\">\n",
       "      <th></th>\n",
       "      <th>word</th>\n",
       "      <th>coef</th>\n",
       "    </tr>\n",
       "  </thead>\n",
       "  <tbody>\n",
       "    <tr>\n",
       "      <th>0</th>\n",
       "      <td>10</td>\n",
       "      <td>-0.749787</td>\n",
       "    </tr>\n",
       "    <tr>\n",
       "      <th>1</th>\n",
       "      <td>20</td>\n",
       "      <td>-0.264341</td>\n",
       "    </tr>\n",
       "    <tr>\n",
       "      <th>2</th>\n",
       "      <td>able</td>\n",
       "      <td>0.185237</td>\n",
       "    </tr>\n",
       "    <tr>\n",
       "      <th>3</th>\n",
       "      <td>abuse</td>\n",
       "      <td>-5.297267</td>\n",
       "    </tr>\n",
       "    <tr>\n",
       "      <th>4</th>\n",
       "      <td>abused</td>\n",
       "      <td>-2.389072</td>\n",
       "    </tr>\n",
       "  </tbody>\n",
       "</table>\n",
       "</div>"
      ],
      "text/plain": [
       "     word      coef\n",
       "0      10 -0.749787\n",
       "1      20 -0.264341\n",
       "2    able  0.185237\n",
       "3   abuse -5.297267\n",
       "4  abused -2.389072"
      ]
     },
     "execution_count": 17,
     "metadata": {},
     "output_type": "execute_result"
    }
   ],
   "source": [
    "#creating dataframe of words and coefficients \n",
    "coef_df = pd.DataFrame({'word':features, 'coef':coefs[0]})\n",
    "coef_df.head()"
   ]
  },
  {
   "cell_type": "code",
   "execution_count": 18,
   "metadata": {},
   "outputs": [
    {
     "data": {
      "image/png": "[encoded data removed]",
      "text/plain": [
       "<Figure size 1080x576 with 1 Axes>"
      ]
     },
     "metadata": {
      "needs_background": "light"
     },
     "output_type": "display_data"
    }
   ],
   "source": [
    "#words with largest positive coefficient values \n",
    "top_20 = coef_df.sort_values(by = 'coef', ascending = False)[0:20]\n",
    "\n",
    "#words with largest negative coefficient values \n",
    "bottom_20 = coef_df.sort_values(by = 'coef')[0:20] \n",
    "\n",
    "top_bottom_20 = pd.concat([bottom_20, top_20.sort_values(by = 'coef')], axis =0)\n",
    "\n",
    "#plot bar chart with 20 words with largest coefficient values and 20 words with smallest coefficient values \n",
    "top_bottom_20.plot.barh('word', figsize=(15,8))\n",
    "plt.title ('Coefficients of most significant words', fontsize=16)\n",
    "plt.xlabel('Coefficient', fontsize = 14)\n",
    "plt.ylabel('Word', fontsize = 14);"
   ]
  },
  {
   "cell_type": "markdown",
   "metadata": {},
   "source": [
    "---\n",
    "## Conclusion \n",
    "\n",
    "The best feature for logistic regression model was the ```all_words``` column, vectorized with ```TF-IDFVectorizer```. It gave a train accuracy score of 0.97 and test accuracy score of 0.92. Its low variance also suggests that the model is not overfit and will generalise well to unseen data. The ROC AUC score of 0.98 means that there is little overlap between false positive and false negatives, thereby minimising wrong predictions. \n",
    "\n",
    "This model will be taken into consideration for the final production model. \n",
    "\n",
    "#### Pros and Cons of Logistic Regression model\n",
    "- Pros\n",
    "    - Low variance \n",
    "    - Able to generate coefficients so weightage of each feature can be measured \n",
    "- Cons\n",
    "    - Tendency to have high bias - which is not the case here since the hyperparameters for the model were optimised \n",
    "    \n",
    "#### The next notebook will explore Random Forest classification modeling"
   ]
  }
 ],
 "metadata": {
  "kernelspec": {
   "display_name": "Python 3",
   "language": "python",
   "name": "python3"
  },
  "language_info": {
   "codemirror_mode": {
    "name": "ipython",
    "version": 3
   },
   "file_extension": ".py",
   "mimetype": "text/x-python",
   "name": "python",
   "nbconvert_exporter": "python",
   "pygments_lexer": "ipython3",
   "version": "3.7.6"
  }
 },
 "nbformat": 4,
 "nbformat_minor": 4
}
